{
 "cells": [
  {
   "cell_type": "code",
   "execution_count": 1,
   "outputs": [
    {
     "name": "stdout",
     "output_type": "stream",
     "text": [
      "tensor([383.7936, 482.0739, 521.8538, 377.1794, 431.3630, 931.0254, 392.7815,\n",
      "        482.2952, 906.3254, 860.0068]) tensor([0.1306, 0.1647, 0.1765, 0.1220, 0.1727, 0.1277, 0.0997, 0.1689, 0.1708,\n",
      "        0.0677], grad_fn=<MeanBackward1>)\n",
      "tensor([ 730.5117, 1006.8588,  881.5791,  691.1396,  790.3466,  755.7232,\n",
      "         718.8868,  912.0146,  803.5450,  679.6888]) tensor([0.1974, 0.1399, 0.2264, 0.2005, 0.2120, 0.2340, 0.1493, 0.1926, 0.2627,\n",
      "        0.0971], grad_fn=<MeanBackward1>) tensor([-48.5842, -73.5359, -50.4068, -43.9939, -50.3029,  24.5644, -45.6958,\n",
      "        -60.2148,  14.4022,  25.2672], grad_fn=<MulBackward0>)\n"
     ]
    }
   ],
   "source": [
    "from dataset import generate_data\n",
    "import torch\n",
    "from baseline import RolloutBaseline\n",
    "from Nets.encoder import GraphAttentionEncoder\n",
    "from Nets.decoder import DecoderCell\n",
    "batch, n_car_each_depot, n_depot, n_customer,  capa = 10, 3, 3, 70, 2.\n",
    "#assert n_node == n_depot + n_customer\n",
    "embed_dim = 128\n",
    "\n",
    "device = torch.device('cpu')\n",
    "data = generate_data(device, batch = batch, n_car_each_depot = n_car_each_depot, n_depot = n_depot, n_customer = n_customer, capa = capa)\n",
    "\n",
    "encoder = GraphAttentionEncoder(n_layers = 3)\n",
    "node_embeddings, graph_embedding = encoder(data)\n",
    "decoder = DecoderCell(embed_dim, n_heads = 8, clip = 10.)\n",
    "encoder_output = (node_embeddings, graph_embedding)\n",
    "# a = graph_embedding[:,None,:].expand(batch, 7, embed_dim)\n",
    "# a = graph_embedding[:,None,:].repeat(1, 7, 1)\n",
    "#print(node_embeddings.size(), graph_embedding.size())\n",
    "output = decoder(data, encoder_output, return_pi = False, decode_type = 'sampling')\n",
    "output_2 = decoder(data, encoder_output, return_pi = False, decode_type = 'greedy')\n",
    "print(output[0], output[1])\n",
    "print(output_2[0], output_2[1], (output[0]-output_2[0])*output[1].mean())\n"
   ],
   "metadata": {
    "collapsed": false,
    "ExecuteTime": {
     "start_time": "2023-05-18T18:03:05.650739Z",
     "end_time": "2023-05-18T18:03:07.974894Z"
    }
   }
  }
 ],
 "metadata": {
  "kernelspec": {
   "display_name": "Python 3",
   "language": "python",
   "name": "python3"
  },
  "language_info": {
   "codemirror_mode": {
    "name": "ipython",
    "version": 2
   },
   "file_extension": ".py",
   "mimetype": "text/x-python",
   "name": "python",
   "nbconvert_exporter": "python",
   "pygments_lexer": "ipython2",
   "version": "2.7.6"
  }
 },
 "nbformat": 4,
 "nbformat_minor": 0
}
